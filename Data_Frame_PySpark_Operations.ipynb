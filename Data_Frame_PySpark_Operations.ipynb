{
  "nbformat": 4,
  "nbformat_minor": 0,
  "metadata": {
    "colab": {
      "provenance": [],
      "mount_file_id": "1hrX7dUaqpsJlGSldxOeLU5vK3ejXGQyc",
      "authorship_tag": "ABX9TyOTdN8iDeCQ7K94mwdrMWva",
      "include_colab_link": true
    },
    "kernelspec": {
      "name": "python3",
      "display_name": "Python 3"
    },
    "language_info": {
      "name": "python"
    }
  },
  "cells": [
    {
      "cell_type": "markdown",
      "metadata": {
        "id": "view-in-github",
        "colab_type": "text"
      },
      "source": [
        "<a href=\"https://colab.research.google.com/github/tarunkalva14/Pyspark-with-Jyupter-/blob/main/Data_Frame_PySpark_Operations.ipynb\" target=\"_parent\"><img src=\"https://colab.research.google.com/assets/colab-badge.svg\" alt=\"Open In Colab\"/></a>"
      ]
    },
    {
      "cell_type": "code",
      "source": [
        "import pyspark"
      ],
      "metadata": {
        "id": "TvO3k7JAvVkw"
      },
      "execution_count": 1,
      "outputs": []
    },
    {
      "cell_type": "code",
      "source": [
        "from pyspark.sql import SparkSession"
      ],
      "metadata": {
        "id": "D0Pin3nLv7vu"
      },
      "execution_count": 2,
      "outputs": []
    },
    {
      "cell_type": "code",
      "source": [
        "spark = SparkSession.builder.appName('dataframe').getOrCreate()"
      ],
      "metadata": {
        "id": "5KNfE7fOv-Bh"
      },
      "execution_count": 3,
      "outputs": []
    },
    {
      "cell_type": "code",
      "source": [
        "df_pyspark =spark.read.option('header','true').csv('BigMart Sales.csv',inferSchema=True)\n",
        "df_pyspark.show()"
      ],
      "metadata": {
        "colab": {
          "base_uri": "https://localhost:8080/"
        },
        "id": "nBF7vu6XwkAq",
        "outputId": "98b9dc42-cf7d-48f0-d516-8d9cad8e84a7"
      },
      "execution_count": 4,
      "outputs": [
        {
          "output_type": "stream",
          "name": "stdout",
          "text": [
            "+---------------+-----------+----------------+---------------+--------------------+--------+-----------------+-------------------------+-----------+--------------------+-----------------+-----------------+\n",
            "|Item_Identifier|Item_Weight|Item_Fat_Content|Item_Visibility|           Item_Type|Item_MRP|Outlet_Identifier|Outlet_Establishment_Year|Outlet_Size|Outlet_Location_Type|      Outlet_Type|Item_Outlet_Sales|\n",
            "+---------------+-----------+----------------+---------------+--------------------+--------+-----------------+-------------------------+-----------+--------------------+-----------------+-----------------+\n",
            "|          FDA15|        9.3|         Low Fat|    0.016047301|               Dairy|249.8092|           OUT049|                     1999|     Medium|              Tier 1|Supermarket Type1|         3735.138|\n",
            "|          DRC01|       5.92|         Regular|    0.019278216|         Soft Drinks| 48.2692|           OUT018|                     2009|     Medium|              Tier 3|Supermarket Type2|         443.4228|\n",
            "|          FDN15|       17.5|         Low Fat|    0.016760075|                Meat| 141.618|           OUT049|                     1999|     Medium|              Tier 1|Supermarket Type1|          2097.27|\n",
            "|          FDX07|       19.2|         Regular|            0.0|Fruits and Vegeta...| 182.095|           OUT010|                     1998|       NULL|              Tier 3|    Grocery Store|           732.38|\n",
            "|          NCD19|       8.93|         Low Fat|            0.0|           Household| 53.8614|           OUT013|                     1987|       High|              Tier 3|Supermarket Type1|         994.7052|\n",
            "|          FDP36|     10.395|         Regular|            0.0|        Baking Goods| 51.4008|           OUT018|                     2009|     Medium|              Tier 3|Supermarket Type2|         556.6088|\n",
            "|          FDO10|      13.65|         Regular|    0.012741089|         Snack Foods| 57.6588|           OUT013|                     1987|       High|              Tier 3|Supermarket Type1|         343.5528|\n",
            "|          FDP10|       NULL|         Low Fat|    0.127469857|         Snack Foods|107.7622|           OUT027|                     1985|     Medium|              Tier 3|Supermarket Type3|        4022.7636|\n",
            "|          FDH17|       16.2|         Regular|    0.016687114|        Frozen Foods| 96.9726|           OUT045|                     2002|       NULL|              Tier 2|Supermarket Type1|        1076.5986|\n",
            "|          FDU28|       19.2|         Regular|     0.09444959|        Frozen Foods|187.8214|           OUT017|                     2007|       NULL|              Tier 2|Supermarket Type1|         4710.535|\n",
            "|          FDY07|       11.8|         Low Fat|            0.0|Fruits and Vegeta...| 45.5402|           OUT049|                     1999|     Medium|              Tier 1|Supermarket Type1|        1516.0266|\n",
            "|          FDA03|       18.5|         Regular|    0.045463773|               Dairy|144.1102|           OUT046|                     1997|      Small|              Tier 1|Supermarket Type1|         2187.153|\n",
            "|          FDX32|       15.1|         Regular|      0.1000135|Fruits and Vegeta...|145.4786|           OUT049|                     1999|     Medium|              Tier 1|Supermarket Type1|        1589.2646|\n",
            "|          FDS46|       17.6|         Regular|    0.047257328|         Snack Foods|119.6782|           OUT046|                     1997|      Small|              Tier 1|Supermarket Type1|        2145.2076|\n",
            "|          FDF32|      16.35|         Low Fat|      0.0680243|Fruits and Vegeta...|196.4426|           OUT013|                     1987|       High|              Tier 3|Supermarket Type1|         1977.426|\n",
            "|          FDP49|        9.0|         Regular|    0.069088961|           Breakfast| 56.3614|           OUT046|                     1997|      Small|              Tier 1|Supermarket Type1|        1547.3192|\n",
            "|          NCB42|       11.8|         Low Fat|    0.008596051|  Health and Hygiene|115.3492|           OUT018|                     2009|     Medium|              Tier 3|Supermarket Type2|        1621.8888|\n",
            "|          FDP49|        9.0|         Regular|    0.069196376|           Breakfast| 54.3614|           OUT049|                     1999|     Medium|              Tier 1|Supermarket Type1|         718.3982|\n",
            "|          DRI11|       NULL|         Low Fat|    0.034237682|         Hard Drinks|113.2834|           OUT027|                     1985|     Medium|              Tier 3|Supermarket Type3|         2303.668|\n",
            "|          FDU02|      13.35|         Low Fat|     0.10249212|               Dairy|230.5352|           OUT035|                     2004|      Small|              Tier 2|Supermarket Type1|        2748.4224|\n",
            "+---------------+-----------+----------------+---------------+--------------------+--------+-----------------+-------------------------+-----------+--------------------+-----------------+-----------------+\n",
            "only showing top 20 rows\n",
            "\n"
          ]
        }
      ]
    },
    {
      "cell_type": "markdown",
      "source": [
        "### **Filter Operations**"
      ],
      "metadata": {
        "id": "x6NDOfpLxdaT"
      }
    },
    {
      "cell_type": "code",
      "source": [
        "df_pyspark.filter(\"Outlet_Establishment_Year>=2000\").show()"
      ],
      "metadata": {
        "colab": {
          "base_uri": "https://localhost:8080/"
        },
        "id": "Oo3gG87oxjSp",
        "outputId": "d530368d-889a-4964-94e7-fe544f58fa30"
      },
      "execution_count": 9,
      "outputs": [
        {
          "output_type": "stream",
          "name": "stdout",
          "text": [
            "+---------------+-----------+----------------+---------------+--------------------+--------+-----------------+-------------------------+-----------+--------------------+-----------------+-----------------+\n",
            "|Item_Identifier|Item_Weight|Item_Fat_Content|Item_Visibility|           Item_Type|Item_MRP|Outlet_Identifier|Outlet_Establishment_Year|Outlet_Size|Outlet_Location_Type|      Outlet_Type|Item_Outlet_Sales|\n",
            "+---------------+-----------+----------------+---------------+--------------------+--------+-----------------+-------------------------+-----------+--------------------+-----------------+-----------------+\n",
            "|          DRC01|       5.92|         Regular|    0.019278216|         Soft Drinks| 48.2692|           OUT018|                     2009|     Medium|              Tier 3|Supermarket Type2|         443.4228|\n",
            "|          FDP36|     10.395|         Regular|            0.0|        Baking Goods| 51.4008|           OUT018|                     2009|     Medium|              Tier 3|Supermarket Type2|         556.6088|\n",
            "|          FDH17|       16.2|         Regular|    0.016687114|        Frozen Foods| 96.9726|           OUT045|                     2002|       NULL|              Tier 2|Supermarket Type1|        1076.5986|\n",
            "|          FDU28|       19.2|         Regular|     0.09444959|        Frozen Foods|187.8214|           OUT017|                     2007|       NULL|              Tier 2|Supermarket Type1|         4710.535|\n",
            "|          NCB42|       11.8|         Low Fat|    0.008596051|  Health and Hygiene|115.3492|           OUT018|                     2009|     Medium|              Tier 3|Supermarket Type2|        1621.8888|\n",
            "|          FDU02|      13.35|         Low Fat|     0.10249212|               Dairy|230.5352|           OUT035|                     2004|      Small|              Tier 2|Supermarket Type1|        2748.4224|\n",
            "|          NCB30|       14.6|         Low Fat|    0.025698134|           Household|196.5084|           OUT035|                     2004|      Small|              Tier 2|Supermarket Type1|        1587.2672|\n",
            "|          NCD06|       13.0|         Low Fat|    0.099887103|           Household|  45.906|           OUT017|                     2007|       NULL|              Tier 2|Supermarket Type1|          838.908|\n",
            "|          FDV10|      7.645|         Regular|    0.066693437|         Snack Foods| 42.3112|           OUT035|                     2004|      Small|              Tier 2|Supermarket Type1|          1065.28|\n",
            "|          NCS17|       18.6|         Low Fat|    0.080829372|  Health and Hygiene| 96.4436|           OUT018|                     2009|     Medium|              Tier 3|Supermarket Type2|        2741.7644|\n",
            "|          FDP33|       18.7|         Low Fat|            0.0|         Snack Foods|256.6672|           OUT018|                     2009|     Medium|              Tier 3|Supermarket Type2|        3068.0064|\n",
            "|          FDO23|      17.85|         Low Fat|            0.0|              Breads| 93.1436|           OUT045|                     2002|       NULL|              Tier 2|Supermarket Type1|        2174.5028|\n",
            "|          DRZ11|       8.85|         Regular|    0.113123893|         Soft Drinks|122.5388|           OUT018|                     2009|     Medium|              Tier 3|Supermarket Type2|        1609.9044|\n",
            "|          FDC02|      21.35|         Low Fat|    0.069102831|              Canned|259.9278|           OUT018|                     2009|     Medium|              Tier 3|Supermarket Type2|        6768.5228|\n",
            "|          NCP05|       19.6|         Low Fat|            0.0|  Health and Hygiene|153.3024|           OUT045|                     2002|       NULL|              Tier 2|Supermarket Type1|        2428.8384|\n",
            "|          FDV49|       10.0|         Low Fat|    0.025879577|              Canned|265.2226|           OUT045|                     2002|       NULL|              Tier 2|Supermarket Type1|        5815.0972|\n",
            "|          FDA43|     10.895|         Low Fat|    0.065041581|Fruits and Vegeta...|196.3794|           OUT017|                     2007|       NULL|              Tier 2|Supermarket Type1|        3121.2704|\n",
            "|          NCP18|      12.15|         Low Fat|    0.028760013|           Household|151.4708|           OUT017|                     2007|       NULL|              Tier 2|Supermarket Type1|        4815.0656|\n",
            "|          FDK21|      7.905|         Low Fat|    0.010053105|         Snack Foods|249.0408|           OUT018|                     2009|     Medium|              Tier 3|Supermarket Type2|          6258.52|\n",
            "|          NCX54|      9.195|         Low Fat|    0.048157338|           Household|106.1622|           OUT045|                     2002|       NULL|              Tier 2|Supermarket Type1|         2117.244|\n",
            "+---------------+-----------+----------------+---------------+--------------------+--------+-----------------+-------------------------+-----------+--------------------+-----------------+-----------------+\n",
            "only showing top 20 rows\n",
            "\n"
          ]
        }
      ]
    },
    {
      "cell_type": "code",
      "source": [
        "df_pyspark.filter(\"Outlet_Establishment_Year<2000\").select(['Item_Identifier','Item_Fat_Content']).show()"
      ],
      "metadata": {
        "colab": {
          "base_uri": "https://localhost:8080/"
        },
        "id": "i9Tk8Y7-y9bX",
        "outputId": "b2f0beb8-88e9-4b26-99d1-7d3f7cd5ba18"
      },
      "execution_count": 13,
      "outputs": [
        {
          "output_type": "stream",
          "name": "stdout",
          "text": [
            "+---------------+----------------+\n",
            "|Item_Identifier|Item_Fat_Content|\n",
            "+---------------+----------------+\n",
            "|          FDA15|         Low Fat|\n",
            "|          FDN15|         Low Fat|\n",
            "|          FDX07|         Regular|\n",
            "|          NCD19|         Low Fat|\n",
            "|          FDO10|         Regular|\n",
            "|          FDP10|         Low Fat|\n",
            "|          FDY07|         Low Fat|\n",
            "|          FDA03|         Regular|\n",
            "|          FDX32|         Regular|\n",
            "|          FDS46|         Regular|\n",
            "|          FDF32|         Low Fat|\n",
            "|          FDP49|         Regular|\n",
            "|          FDP49|         Regular|\n",
            "|          DRI11|         Low Fat|\n",
            "|          FDN22|         Regular|\n",
            "|          FDW12|         Regular|\n",
            "|          FDC37|         Low Fat|\n",
            "|          FDR28|         Regular|\n",
            "|          DRJ59|         low fat|\n",
            "|          FDE51|         Regular|\n",
            "+---------------+----------------+\n",
            "only showing top 20 rows\n",
            "\n"
          ]
        }
      ]
    },
    {
      "cell_type": "code",
      "source": [
        "df_pyspark.filter((df_pyspark[\"Item_Weight\"]>5.5) & (df_pyspark[\"Item_Weight\"]<7.5)).show()"
      ],
      "metadata": {
        "colab": {
          "base_uri": "https://localhost:8080/"
        },
        "id": "KSbSj2Zaz9Z1",
        "outputId": "70cfa291-96b3-4157-8ae7-3aa38286090a"
      },
      "execution_count": 17,
      "outputs": [
        {
          "output_type": "stream",
          "name": "stdout",
          "text": [
            "+---------------+-----------+----------------+---------------+--------------------+--------+-----------------+-------------------------+-----------+--------------------+-----------------+-----------------+\n",
            "|Item_Identifier|Item_Weight|Item_Fat_Content|Item_Visibility|           Item_Type|Item_MRP|Outlet_Identifier|Outlet_Establishment_Year|Outlet_Size|Outlet_Location_Type|      Outlet_Type|Item_Outlet_Sales|\n",
            "+---------------+-----------+----------------+---------------+--------------------+--------+-----------------+-------------------------+-----------+--------------------+-----------------+-----------------+\n",
            "|          DRC01|       5.92|         Regular|    0.019278216|         Soft Drinks| 48.2692|           OUT018|                     2009|     Medium|              Tier 3|Supermarket Type2|         443.4228|\n",
            "|          FDE51|      5.925|         Regular|    0.161466534|               Dairy| 45.5086|           OUT010|                     1998|       NULL|              Tier 3|    Grocery Store|         178.4344|\n",
            "|          FDM39|       6.42|              LF|    0.089498926|               Dairy|178.1002|           OUT010|                     1998|       NULL|              Tier 3|    Grocery Store|         358.2004|\n",
            "|          NCL17|       7.39|         Low Fat|    0.067779712|  Health and Hygiene|143.8812|           OUT046|                     1997|      Small|              Tier 1|Supermarket Type1|        3134.5864|\n",
            "|          FDV25|      5.905|         Low Fat|            0.0|              Canned|222.5456|           OUT045|                     2002|       NULL|              Tier 2|Supermarket Type1|        5305.0944|\n",
            "|          FDZ55|      6.055|         Low Fat|    0.025403898|Fruits and Vegeta...| 160.992|           OUT035|                     2004|      Small|              Tier 2|Supermarket Type1|         2716.464|\n",
            "|          FDN33|      6.305|         Regular|    0.123115764|         Snack Foods| 95.6436|           OUT046|                     1997|      Small|              Tier 1|Supermarket Type1|         661.8052|\n",
            "|          FDG12|      6.635|         Regular|            0.0|        Baking Goods|121.3098|           OUT045|                     2002|       NULL|              Tier 2|Supermarket Type1|        2530.7058|\n",
            "|          FDZ46|      7.485|         Low Fat|     0.06911065|         Snack Foods|109.0228|           OUT035|                     2004|      Small|              Tier 2|Supermarket Type1|        2542.0244|\n",
            "|          NCO26|      7.235|         Low Fat|    0.076855628|           Household|116.0492|           OUT046|                     1997|      Small|              Tier 1|Supermarket Type1|        1969.4364|\n",
            "|          FDB51|       6.92|         Low Fat|    0.038532062|               Dairy| 60.5852|           OUT045|                     2002|       NULL|              Tier 2|Supermarket Type1|        1314.2892|\n",
            "|          NCO26|      7.235|         Low Fat|    0.076841095|           Household|117.5492|           OUT035|                     2004|      Small|              Tier 2|Supermarket Type1|        1969.4364|\n",
            "|          FDX20|      7.365|         Low Fat|    0.042560252|Fruits and Vegeta...| 226.172|           OUT046|                     1997|      Small|              Tier 1|Supermarket Type1|         3169.208|\n",
            "|          FDV25|      5.905|         Low Fat|    0.045838211|              Canned|222.5456|           OUT018|                     2009|     Medium|              Tier 3|Supermarket Type2|         3315.684|\n",
            "|          DRF49|       7.27|         Low Fat|    0.071077939|         Soft Drinks|114.2518|           OUT046|                     1997|      Small|              Tier 1|Supermarket Type1|        2618.5914|\n",
            "|          FDW51|      6.155|         Regular|    0.094659871|                Meat| 214.556|           OUT046|                     1997|      Small|              Tier 1|Supermarket Type1|         2769.728|\n",
            "|          FDU50|       5.75|         Regular|    0.075107656|               Dairy|112.8176|           OUT013|                     1987|       High|              Tier 3|Supermarket Type1|        1374.2112|\n",
            "|          NCB19|      6.525|         Low Fat|    0.090436094|           Household| 85.0882|           OUT049|                     1999|     Medium|              Tier 1|Supermarket Type1|        2233.0932|\n",
            "|          FDL58|       5.78|         Regular|    0.074264356|         Snack Foods|264.7568|           OUT049|                     1999|     Medium|              Tier 1|Supermarket Type1|        4745.8224|\n",
            "|          FDL58|       5.78|         Regular|            0.0|         Snack Foods|263.7568|           OUT017|                     2007|       NULL|              Tier 2|Supermarket Type1|         2636.568|\n",
            "+---------------+-----------+----------------+---------------+--------------------+--------+-----------------+-------------------------+-----------+--------------------+-----------------+-----------------+\n",
            "only showing top 20 rows\n",
            "\n"
          ]
        }
      ]
    },
    {
      "cell_type": "code",
      "source": [
        "df_pyspark.filter((df_pyspark[\"Item_Weight\"]>5.5) | (df_pyspark[\"Item_Weight\"]<7.5)).show()"
      ],
      "metadata": {
        "colab": {
          "base_uri": "https://localhost:8080/"
        },
        "id": "kw1IoGpI1EFa",
        "outputId": "8ef31281-5e20-4559-8c1d-20a668aec8e0"
      },
      "execution_count": 18,
      "outputs": [
        {
          "output_type": "stream",
          "name": "stdout",
          "text": [
            "+---------------+-----------+----------------+---------------+--------------------+--------+-----------------+-------------------------+-----------+--------------------+-----------------+-----------------+\n",
            "|Item_Identifier|Item_Weight|Item_Fat_Content|Item_Visibility|           Item_Type|Item_MRP|Outlet_Identifier|Outlet_Establishment_Year|Outlet_Size|Outlet_Location_Type|      Outlet_Type|Item_Outlet_Sales|\n",
            "+---------------+-----------+----------------+---------------+--------------------+--------+-----------------+-------------------------+-----------+--------------------+-----------------+-----------------+\n",
            "|          FDA15|        9.3|         Low Fat|    0.016047301|               Dairy|249.8092|           OUT049|                     1999|     Medium|              Tier 1|Supermarket Type1|         3735.138|\n",
            "|          DRC01|       5.92|         Regular|    0.019278216|         Soft Drinks| 48.2692|           OUT018|                     2009|     Medium|              Tier 3|Supermarket Type2|         443.4228|\n",
            "|          FDN15|       17.5|         Low Fat|    0.016760075|                Meat| 141.618|           OUT049|                     1999|     Medium|              Tier 1|Supermarket Type1|          2097.27|\n",
            "|          FDX07|       19.2|         Regular|            0.0|Fruits and Vegeta...| 182.095|           OUT010|                     1998|       NULL|              Tier 3|    Grocery Store|           732.38|\n",
            "|          NCD19|       8.93|         Low Fat|            0.0|           Household| 53.8614|           OUT013|                     1987|       High|              Tier 3|Supermarket Type1|         994.7052|\n",
            "|          FDP36|     10.395|         Regular|            0.0|        Baking Goods| 51.4008|           OUT018|                     2009|     Medium|              Tier 3|Supermarket Type2|         556.6088|\n",
            "|          FDO10|      13.65|         Regular|    0.012741089|         Snack Foods| 57.6588|           OUT013|                     1987|       High|              Tier 3|Supermarket Type1|         343.5528|\n",
            "|          FDH17|       16.2|         Regular|    0.016687114|        Frozen Foods| 96.9726|           OUT045|                     2002|       NULL|              Tier 2|Supermarket Type1|        1076.5986|\n",
            "|          FDU28|       19.2|         Regular|     0.09444959|        Frozen Foods|187.8214|           OUT017|                     2007|       NULL|              Tier 2|Supermarket Type1|         4710.535|\n",
            "|          FDY07|       11.8|         Low Fat|            0.0|Fruits and Vegeta...| 45.5402|           OUT049|                     1999|     Medium|              Tier 1|Supermarket Type1|        1516.0266|\n",
            "|          FDA03|       18.5|         Regular|    0.045463773|               Dairy|144.1102|           OUT046|                     1997|      Small|              Tier 1|Supermarket Type1|         2187.153|\n",
            "|          FDX32|       15.1|         Regular|      0.1000135|Fruits and Vegeta...|145.4786|           OUT049|                     1999|     Medium|              Tier 1|Supermarket Type1|        1589.2646|\n",
            "|          FDS46|       17.6|         Regular|    0.047257328|         Snack Foods|119.6782|           OUT046|                     1997|      Small|              Tier 1|Supermarket Type1|        2145.2076|\n",
            "|          FDF32|      16.35|         Low Fat|      0.0680243|Fruits and Vegeta...|196.4426|           OUT013|                     1987|       High|              Tier 3|Supermarket Type1|         1977.426|\n",
            "|          FDP49|        9.0|         Regular|    0.069088961|           Breakfast| 56.3614|           OUT046|                     1997|      Small|              Tier 1|Supermarket Type1|        1547.3192|\n",
            "|          NCB42|       11.8|         Low Fat|    0.008596051|  Health and Hygiene|115.3492|           OUT018|                     2009|     Medium|              Tier 3|Supermarket Type2|        1621.8888|\n",
            "|          FDP49|        9.0|         Regular|    0.069196376|           Breakfast| 54.3614|           OUT049|                     1999|     Medium|              Tier 1|Supermarket Type1|         718.3982|\n",
            "|          FDU02|      13.35|         Low Fat|     0.10249212|               Dairy|230.5352|           OUT035|                     2004|      Small|              Tier 2|Supermarket Type1|        2748.4224|\n",
            "|          FDN22|      18.85|         Regular|    0.138190277|         Snack Foods|250.8724|           OUT013|                     1987|       High|              Tier 3|Supermarket Type1|         3775.086|\n",
            "|          NCB30|       14.6|         Low Fat|    0.025698134|           Household|196.5084|           OUT035|                     2004|      Small|              Tier 2|Supermarket Type1|        1587.2672|\n",
            "+---------------+-----------+----------------+---------------+--------------------+--------+-----------------+-------------------------+-----------+--------------------+-----------------+-----------------+\n",
            "only showing top 20 rows\n",
            "\n"
          ]
        }
      ]
    },
    {
      "cell_type": "code",
      "source": [
        "df_pyspark.filter(~(df_pyspark[\"Item_Weight\"]>5.5)).show()"
      ],
      "metadata": {
        "colab": {
          "base_uri": "https://localhost:8080/"
        },
        "id": "ffXsz5a71SlF",
        "outputId": "533686ee-c0cb-47a1-bf10-19c06164dec3"
      },
      "execution_count": 19,
      "outputs": [
        {
          "output_type": "stream",
          "name": "stdout",
          "text": [
            "+---------------+-----------+----------------+---------------+--------------------+--------+-----------------+-------------------------+-----------+--------------------+-----------------+-----------------+\n",
            "|Item_Identifier|Item_Weight|Item_Fat_Content|Item_Visibility|           Item_Type|Item_MRP|Outlet_Identifier|Outlet_Establishment_Year|Outlet_Size|Outlet_Location_Type|      Outlet_Type|Item_Outlet_Sales|\n",
            "+---------------+-----------+----------------+---------------+--------------------+--------+-----------------+-------------------------+-----------+--------------------+-----------------+-----------------+\n",
            "|          FDB36|      5.465|         Regular|            0.0|        Baking Goods|132.5626|           OUT018|                     2009|     Medium|              Tier 3|Supermarket Type2|         262.3252|\n",
            "|          FDE36|       5.26|         Regular|    0.041764487|        Baking Goods|161.8868|           OUT035|                     2004|      Small|              Tier 2|Supermarket Type1|         3275.736|\n",
            "|          FDY24|       4.88|         Regular|    0.133700752|        Baking Goods| 52.9298|           OUT049|                     1999|     Medium|              Tier 1|Supermarket Type1|        1995.4026|\n",
            "|          FDC60|      5.425|         Regular|    0.115119905|        Baking Goods| 88.3514|           OUT017|                     2007|       NULL|              Tier 2|Supermarket Type1|        1416.8224|\n",
            "|          NCO43|        5.5|         Low Fat|     0.04709821|              Others|101.3016|           OUT046|                     1997|      Small|              Tier 1|Supermarket Type1|        3339.6528|\n",
            "|          DRK37|        5.0|         Low Fat|    0.044004675|         Soft Drinks| 188.853|           OUT046|                     1997|      Small|              Tier 1|Supermarket Type1|         5502.837|\n",
            "|          FDS45|      5.175|         Regular|    0.029471408|         Snack Foods|105.4622|           OUT013|                     1987|       High|              Tier 3|Supermarket Type1|        3281.7282|\n",
            "|          FDU11|      4.785|         Low Fat|    0.092516598|              Breads|120.1098|           OUT013|                     1987|       High|              Tier 3|Supermarket Type1|        1325.6078|\n",
            "|          NCU17|       5.32|         Low Fat|    0.093027718|  Health and Hygiene|101.4674|           OUT049|                     1999|     Medium|              Tier 1|Supermarket Type1|        2954.1546|\n",
            "|          FDU11|      4.785|         Low Fat|    0.092781435|              Breads|119.7098|           OUT045|                     2002|       NULL|              Tier 2|Supermarket Type1|         1807.647|\n",
            "|          NCK06|       5.03|         Low Fat|    0.008644894|           Household|122.6756|           OUT035|                     2004|      Small|              Tier 2|Supermarket Type1|        2665.8632|\n",
            "|          FDK26|       5.46|         Regular|     0.03217132|              Canned| 184.824|           OUT035|                     2004|      Small|              Tier 2|Supermarket Type1|         4287.752|\n",
            "|          FDP03|       5.15|         Regular|    0.061165512|                Meat|125.6388|           OUT035|                     2004|      Small|              Tier 2|Supermarket Type1|        2848.2924|\n",
            "|          FDX35|      5.035|         Regular|    0.079844043|              Breads|226.3036|           OUT013|                     1987|       High|              Tier 3|Supermarket Type1|        4098.6648|\n",
            "|          FDN56|       5.46|         Regular|    0.106968096|Fruits and Vegeta...|142.6786|           OUT013|                     1987|       High|              Tier 3|Supermarket Type1|        2311.6576|\n",
            "|          DRF23|       4.61|         Low Fat|    0.205294827|         Hard Drinks|172.8396|           OUT010|                     1998|       NULL|              Tier 3|    Grocery Store|         174.4396|\n",
            "|          DRE12|       4.59|         Low Fat|    0.070890602|         Soft Drinks| 111.686|           OUT049|                     1999|     Medium|              Tier 1|Supermarket Type1|         1584.604|\n",
            "|          NCO43|        5.5|              LF|            0.0|              Others|103.1016|           OUT045|                     2002|       NULL|              Tier 2|Supermarket Type1|         2024.032|\n",
            "|          NCO43|        5.5|         Low Fat|    0.047364617|              Others|100.0016|           OUT017|                     2007|       NULL|              Tier 2|Supermarket Type1|         708.4112|\n",
            "|          FDB05|      5.155|         Low Fat|    0.083198341|        Frozen Foods|246.0776|           OUT046|                     1997|      Small|              Tier 1|Supermarket Type1|         990.7104|\n",
            "+---------------+-----------+----------------+---------------+--------------------+--------+-----------------+-------------------------+-----------+--------------------+-----------------+-----------------+\n",
            "only showing top 20 rows\n",
            "\n"
          ]
        }
      ]
    },
    {
      "cell_type": "markdown",
      "source": [
        "**Group By & Aggregate Functions**"
      ],
      "metadata": {
        "id": "pSYcs2Jo1uKw"
      }
    },
    {
      "cell_type": "code",
      "source": [
        "df_pyspark.printSchema()"
      ],
      "metadata": {
        "colab": {
          "base_uri": "https://localhost:8080/"
        },
        "id": "30PeKTi-2_yc",
        "outputId": "b459f428-a0cf-4a69-eecd-f45997e34520"
      },
      "execution_count": 22,
      "outputs": [
        {
          "output_type": "stream",
          "name": "stdout",
          "text": [
            "root\n",
            " |-- Item_Identifier: string (nullable = true)\n",
            " |-- Item_Weight: double (nullable = true)\n",
            " |-- Item_Fat_Content: string (nullable = true)\n",
            " |-- Item_Visibility: double (nullable = true)\n",
            " |-- Item_Type: string (nullable = true)\n",
            " |-- Item_MRP: double (nullable = true)\n",
            " |-- Outlet_Identifier: string (nullable = true)\n",
            " |-- Outlet_Establishment_Year: integer (nullable = true)\n",
            " |-- Outlet_Size: string (nullable = true)\n",
            " |-- Outlet_Location_Type: string (nullable = true)\n",
            " |-- Outlet_Type: string (nullable = true)\n",
            " |-- Item_Outlet_Sales: double (nullable = true)\n",
            "\n"
          ]
        }
      ]
    },
    {
      "cell_type": "code",
      "source": [
        "df_pyspark.groupBy('Item_MRP').sum().show()"
      ],
      "metadata": {
        "colab": {
          "base_uri": "https://localhost:8080/"
        },
        "id": "NsMS1QZP3WMw",
        "outputId": "49a1c78c-354c-4ff1-b9ee-dfb7d4974693"
      },
      "execution_count": 27,
      "outputs": [
        {
          "output_type": "stream",
          "name": "stdout",
          "text": [
            "+--------+----------------+--------------------+-------------+------------------------------+----------------------+\n",
            "|Item_MRP|sum(Item_Weight)|sum(Item_Visibility)|sum(Item_MRP)|sum(Outlet_Establishment_Year)|sum(Item_Outlet_Sales)|\n",
            "+--------+----------------+--------------------+-------------+------------------------------+----------------------+\n",
            "| 37.2506|            31.7|         0.188745257|      74.5012|                          3999|               759.012|\n",
            "| 62.6168|           20.59|         0.105912792|     125.2336|                          3994|               1597.92|\n",
            "|197.9084|            NULL|         0.117091213|     197.9084|                          1985|               992.042|\n",
            "| 107.957|            8.38|          0.04688734|      107.957|                          1997|              2966.139|\n",
            "|173.1764|           17.25|         0.042413704|     173.1764|                          2009|             4466.1864|\n",
            "|254.1014|            32.7|         0.276317992|     762.3042|                          5994|             8415.0462|\n",
            "|226.1062|          24.465|         0.129001201|     452.2124|                          3999|            11511.0162|\n",
            "|  87.254|            10.3|           0.0111263|       87.254|                          1997|              1211.756|\n",
            "| 99.2042|           6.325|         0.125154452|      99.2042|                          2004|             1388.8588|\n",
            "| 48.6376|           19.85|         0.051917442|      97.2752|                          3994|             2253.0672|\n",
            "|252.3356|            16.1|         0.034306962|     252.3356|                          1997|              3815.034|\n",
            "| 98.6068|            13.5|         0.238069624|     197.2136|                          3983|             2527.3768|\n",
            "|157.2946|           12.35|         0.158715731|     157.2946|                          1999|              1577.946|\n",
            "| 94.9094|           17.85|         0.018125948|      94.9094|                          2007|              761.6752|\n",
            "|168.4448|            12.5|          0.17314115|     168.4448|                          1998|              170.4448|\n",
            "|175.1028|            6.03|                 0.0|     175.1028|                          1999|             1593.9252|\n",
            "|165.3158|             9.6|         0.161182103|     165.3158|                          1998|              334.2316|\n",
            "| 64.7826|           12.15|         0.037889224|      64.7826|                          2004|              904.1564|\n",
            "| 49.0034|            NULL|         0.034938717|      49.0034|                          1985|              826.2578|\n",
            "| 92.5146|             8.6|         0.069416467|      92.5146|                          1997|             2006.7212|\n",
            "+--------+----------------+--------------------+-------------+------------------------------+----------------------+\n",
            "only showing top 20 rows\n",
            "\n"
          ]
        }
      ]
    },
    {
      "cell_type": "code",
      "source": [
        "df_pyspark.groupBy('Item_MRP').avg().show()"
      ],
      "metadata": {
        "colab": {
          "base_uri": "https://localhost:8080/"
        },
        "id": "AL2CxYNC6k5h",
        "outputId": "be289584-e35c-4dde-82cd-5f178fbdcba6"
      },
      "execution_count": 28,
      "outputs": [
        {
          "output_type": "stream",
          "name": "stdout",
          "text": [
            "+--------+----------------+--------------------+-------------+------------------------------+----------------------+\n",
            "|Item_MRP|avg(Item_Weight)|avg(Item_Visibility)|avg(Item_MRP)|avg(Outlet_Establishment_Year)|avg(Item_Outlet_Sales)|\n",
            "+--------+----------------+--------------------+-------------+------------------------------+----------------------+\n",
            "| 37.2506|           15.85|        0.0943726285|      37.2506|                        1999.5|               379.506|\n",
            "| 62.6168|          10.295|         0.052956396|      62.6168|                        1997.0|                798.96|\n",
            "|197.9084|            NULL|         0.117091213|     197.9084|                        1985.0|               992.042|\n",
            "| 107.957|            8.38|          0.04688734|      107.957|                        1997.0|              2966.139|\n",
            "|173.1764|           17.25|         0.042413704|     173.1764|                        2009.0|             4466.1864|\n",
            "|254.1014|           16.35| 0.09210599733333334|     254.1014|                        1998.0|             2805.0154|\n",
            "|226.1062|         12.2325|        0.0645006005|     226.1062|                        1999.5|             5755.5081|\n",
            "|  87.254|            10.3|           0.0111263|       87.254|                        1997.0|              1211.756|\n",
            "| 99.2042|           6.325|         0.125154452|      99.2042|                        2004.0|             1388.8588|\n",
            "| 48.6376|           19.85|         0.025958721|      48.6376|                        1997.0|             1126.5336|\n",
            "|252.3356|            16.1|         0.034306962|     252.3356|                        1997.0|              3815.034|\n",
            "| 98.6068|            13.5|         0.119034812|      98.6068|                        1991.5|             1263.6884|\n",
            "|157.2946|           12.35|         0.158715731|     157.2946|                        1999.0|              1577.946|\n",
            "| 94.9094|           17.85|         0.018125948|      94.9094|                        2007.0|              761.6752|\n",
            "|168.4448|            12.5|          0.17314115|     168.4448|                        1998.0|              170.4448|\n",
            "|175.1028|            6.03|                 0.0|     175.1028|                        1999.0|             1593.9252|\n",
            "|165.3158|             9.6|         0.161182103|     165.3158|                        1998.0|              334.2316|\n",
            "| 64.7826|           12.15|         0.037889224|      64.7826|                        2004.0|              904.1564|\n",
            "| 49.0034|            NULL|         0.034938717|      49.0034|                        1985.0|              826.2578|\n",
            "| 92.5146|             8.6|         0.069416467|      92.5146|                        1997.0|             2006.7212|\n",
            "+--------+----------------+--------------------+-------------+------------------------------+----------------------+\n",
            "only showing top 20 rows\n",
            "\n"
          ]
        }
      ]
    },
    {
      "cell_type": "code",
      "source": [
        "df_pyspark.groupBy('Item_MRP').count().show()"
      ],
      "metadata": {
        "colab": {
          "base_uri": "https://localhost:8080/"
        },
        "id": "EuwWQC4e6qMZ",
        "outputId": "b6fbade4-d8a2-4f28-b5c2-d4f123a041b6"
      },
      "execution_count": 29,
      "outputs": [
        {
          "output_type": "stream",
          "name": "stdout",
          "text": [
            "+--------+-----+\n",
            "|Item_MRP|count|\n",
            "+--------+-----+\n",
            "| 37.2506|    2|\n",
            "| 62.6168|    2|\n",
            "|197.9084|    1|\n",
            "| 107.957|    1|\n",
            "|173.1764|    1|\n",
            "|254.1014|    3|\n",
            "|226.1062|    2|\n",
            "|  87.254|    1|\n",
            "| 99.2042|    1|\n",
            "| 48.6376|    2|\n",
            "|252.3356|    1|\n",
            "| 98.6068|    2|\n",
            "|157.2946|    1|\n",
            "| 94.9094|    1|\n",
            "|168.4448|    1|\n",
            "|175.1028|    1|\n",
            "|165.3158|    1|\n",
            "| 64.7826|    1|\n",
            "| 49.0034|    1|\n",
            "| 92.5146|    1|\n",
            "+--------+-----+\n",
            "only showing top 20 rows\n",
            "\n"
          ]
        }
      ]
    },
    {
      "cell_type": "code",
      "source": [
        "df_pyspark.groupBy('Item_MRP').mean().show()"
      ],
      "metadata": {
        "colab": {
          "base_uri": "https://localhost:8080/"
        },
        "id": "F5fJJpEJ6xTO",
        "outputId": "e014e284-3a76-4e8b-c1b4-74da5e1c1c15"
      },
      "execution_count": 30,
      "outputs": [
        {
          "output_type": "stream",
          "name": "stdout",
          "text": [
            "+--------+----------------+--------------------+-------------+------------------------------+----------------------+\n",
            "|Item_MRP|avg(Item_Weight)|avg(Item_Visibility)|avg(Item_MRP)|avg(Outlet_Establishment_Year)|avg(Item_Outlet_Sales)|\n",
            "+--------+----------------+--------------------+-------------+------------------------------+----------------------+\n",
            "| 37.2506|           15.85|        0.0943726285|      37.2506|                        1999.5|               379.506|\n",
            "| 62.6168|          10.295|         0.052956396|      62.6168|                        1997.0|                798.96|\n",
            "|197.9084|            NULL|         0.117091213|     197.9084|                        1985.0|               992.042|\n",
            "| 107.957|            8.38|          0.04688734|      107.957|                        1997.0|              2966.139|\n",
            "|173.1764|           17.25|         0.042413704|     173.1764|                        2009.0|             4466.1864|\n",
            "|254.1014|           16.35| 0.09210599733333334|     254.1014|                        1998.0|             2805.0154|\n",
            "|226.1062|         12.2325|        0.0645006005|     226.1062|                        1999.5|             5755.5081|\n",
            "|  87.254|            10.3|           0.0111263|       87.254|                        1997.0|              1211.756|\n",
            "| 99.2042|           6.325|         0.125154452|      99.2042|                        2004.0|             1388.8588|\n",
            "| 48.6376|           19.85|         0.025958721|      48.6376|                        1997.0|             1126.5336|\n",
            "|252.3356|            16.1|         0.034306962|     252.3356|                        1997.0|              3815.034|\n",
            "| 98.6068|            13.5|         0.119034812|      98.6068|                        1991.5|             1263.6884|\n",
            "|157.2946|           12.35|         0.158715731|     157.2946|                        1999.0|              1577.946|\n",
            "| 94.9094|           17.85|         0.018125948|      94.9094|                        2007.0|              761.6752|\n",
            "|168.4448|            12.5|          0.17314115|     168.4448|                        1998.0|              170.4448|\n",
            "|175.1028|            6.03|                 0.0|     175.1028|                        1999.0|             1593.9252|\n",
            "|165.3158|             9.6|         0.161182103|     165.3158|                        1998.0|              334.2316|\n",
            "| 64.7826|           12.15|         0.037889224|      64.7826|                        2004.0|              904.1564|\n",
            "| 49.0034|            NULL|         0.034938717|      49.0034|                        1985.0|              826.2578|\n",
            "| 92.5146|             8.6|         0.069416467|      92.5146|                        1997.0|             2006.7212|\n",
            "+--------+----------------+--------------------+-------------+------------------------------+----------------------+\n",
            "only showing top 20 rows\n",
            "\n"
          ]
        }
      ]
    },
    {
      "cell_type": "code",
      "source": [
        "df_pyspark.agg({'Item_MRP':'sum'}).show()"
      ],
      "metadata": {
        "colab": {
          "base_uri": "https://localhost:8080/"
        },
        "id": "WEMVX7bL7Gdp",
        "outputId": "14444839-e39c-4917-c571-68edd7c347de"
      },
      "execution_count": 31,
      "outputs": [
        {
          "output_type": "stream",
          "name": "stdout",
          "text": [
            "+------------------+\n",
            "|     sum(Item_MRP)|\n",
            "+------------------+\n",
            "|1201681.4808000007|\n",
            "+------------------+\n",
            "\n"
          ]
        }
      ]
    },
    {
      "cell_type": "code",
      "source": [
        "df_pyspark.agg({'Item_Weight':'avg'}).show()"
      ],
      "metadata": {
        "colab": {
          "base_uri": "https://localhost:8080/"
        },
        "id": "aUnOxncI7fsb",
        "outputId": "0ef1232f-481f-4ed9-d87a-71fc71daec32"
      },
      "execution_count": 32,
      "outputs": [
        {
          "output_type": "stream",
          "name": "stdout",
          "text": [
            "+------------------+\n",
            "|  avg(Item_Weight)|\n",
            "+------------------+\n",
            "|12.857645184136183|\n",
            "+------------------+\n",
            "\n"
          ]
        }
      ]
    },
    {
      "cell_type": "code",
      "source": [
        "df_pyspark.agg({'Item_Weight':'count'}).show()"
      ],
      "metadata": {
        "colab": {
          "base_uri": "https://localhost:8080/"
        },
        "id": "5MM8RhSn7jZB",
        "outputId": "18741d55-5ebf-4a70-b6c6-6be67dcfe648"
      },
      "execution_count": 33,
      "outputs": [
        {
          "output_type": "stream",
          "name": "stdout",
          "text": [
            "+------------------+\n",
            "|count(Item_Weight)|\n",
            "+------------------+\n",
            "|              7060|\n",
            "+------------------+\n",
            "\n"
          ]
        }
      ]
    },
    {
      "cell_type": "code",
      "source": [
        "df_pyspark.agg({'Item_Weight':'mean'}).show()"
      ],
      "metadata": {
        "colab": {
          "base_uri": "https://localhost:8080/"
        },
        "id": "yaiqhpXi7n38",
        "outputId": "1b65c09f-efd1-43cb-8802-8e0da8434ddb"
      },
      "execution_count": 34,
      "outputs": [
        {
          "output_type": "stream",
          "name": "stdout",
          "text": [
            "+------------------+\n",
            "|  avg(Item_Weight)|\n",
            "+------------------+\n",
            "|12.857645184136183|\n",
            "+------------------+\n",
            "\n"
          ]
        }
      ]
    },
    {
      "cell_type": "code",
      "source": [
        "df_pyspark.agg({'Item_Identifier':'max'}).show()"
      ],
      "metadata": {
        "colab": {
          "base_uri": "https://localhost:8080/"
        },
        "id": "H1UhYnDr7rk5",
        "outputId": "8fa54f28-ea4e-488c-fd95-59e247f59d27"
      },
      "execution_count": 36,
      "outputs": [
        {
          "output_type": "stream",
          "name": "stdout",
          "text": [
            "+--------------------+\n",
            "|max(Item_Identifier)|\n",
            "+--------------------+\n",
            "|               NCZ54|\n",
            "+--------------------+\n",
            "\n"
          ]
        }
      ]
    },
    {
      "cell_type": "code",
      "source": [
        "df_pyspark.agg({'Item_MRP':'min'}).show()"
      ],
      "metadata": {
        "colab": {
          "base_uri": "https://localhost:8080/"
        },
        "id": "-L04TZ-X77Y-",
        "outputId": "ff258f8d-8bee-46fe-bb89-1fd058ae8e84"
      },
      "execution_count": 37,
      "outputs": [
        {
          "output_type": "stream",
          "name": "stdout",
          "text": [
            "+-------------+\n",
            "|min(Item_MRP)|\n",
            "+-------------+\n",
            "|        31.29|\n",
            "+-------------+\n",
            "\n"
          ]
        }
      ]
    }
  ]
}